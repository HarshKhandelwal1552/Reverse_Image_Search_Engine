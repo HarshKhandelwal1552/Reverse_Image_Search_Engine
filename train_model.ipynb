{
 "cells": [
  {
   "cell_type": "code",
   "execution_count": 1,
   "metadata": {
    "tags": []
   },
   "outputs": [],
   "source": [
    "import os\n",
    "import cv2\n",
    "import tensorflow as tf\n",
    "import tensorflow.keras as keras\n",
    "from tensorflow.keras.applications.imagenet_utils import decode_predictions, preprocess_input\n",
    "from tensorflow.keras.preprocessing import image\n",
    "from tensorflow.keras.models import Model\n",
    "import random\n",
    "import time\n",
    "from tensorflow.keras.layers import Dense, Dropout, Flatten, Conv2D, MaxPooling2D, BatchNormalization, Activation\n",
    "from tensorflow.keras.optimizers import RMSprop\n",
    "from tensorflow.keras.optimizers import Adam\n",
    "from tensorflow.keras.preprocessing.image import ImageDataGenerator, img_to_array, load_img,array_to_img\n",
    "from IPython.display import clear_output\n",
    "import pickle\n",
    "import numpy as np\n",
    "import matplotlib.pyplot as plt\n",
    "from sklearn.model_selection import KFold, StratifiedKFold\n",
    "import pandas as pd\n",
    "from numpy import save\n",
    "from IPython.display import clear_output\n",
    "from sklearn.model_selection import train_test_split"
   ]
  },
  {
   "cell_type": "markdown",
   "metadata": {},
   "source": [
    "Now since we have imported out required liberaries \n",
    "We will be creating a dataframe to save the image paths with image labels\n",
    "So, that the images could be fetched in batches when needed without using a lot memory "
   ]
  },
  {
   "cell_type": "code",
   "execution_count": 2,
   "metadata": {},
   "outputs": [],
   "source": [
    "df  = pd.DataFrame()"
   ]
  },
  {
   "cell_type": "markdown",
   "metadata": {},
   "source": [
    "We will be laoding our images with open cv , which loades our image in BGR format instead of RGB format\n",
    "And resizing our image to required size\n",
    "This all is done in our helper function image_loader "
   ]
  },
  {
   "cell_type": "code",
   "execution_count": 3,
   "metadata": {},
   "outputs": [],
   "source": [
    "def image_loader(image_path , image_size):\n",
    "    \n",
    "    ''' give the path\n",
    "        load the image\n",
    "        convert to rgb from bgr\n",
    "        '''\n",
    "    image = cv2.imread(image_path)\n",
    "    image = cv2.cvtColor(image , cv2.COLOR_BGR2RGB)\n",
    "\n",
    "    image = cv2.resize(image , image_size ,cv2.INTER_CUBIC)\n",
    "    return image"
   ]
  },
  {
   "cell_type": "markdown",
   "metadata": {},
   "source": [
    "Now in dataset_preprocessor we will be accessing the dataset directory and get all the image paths and their labels"
   ]
  },
  {
   "cell_type": "code",
   "execution_count": 4,
   "metadata": {},
   "outputs": [],
   "source": [
    "def dataset_preprocessing(dataset_path , labels_file_path , image_size,image_paths_pickle):\n",
    "\n",
    "    \n",
    "\n",
    "\n",
    "\n",
    "\n",
    "    with open(labels_file_path,\"r\") as f:\n",
    "        classes = f.read().split(\"\\n\")[:-1]\n",
    "    \n",
    "\n",
    "    # images = []\n",
    "    labels = []\n",
    "    image_paths = []\n",
    "    \n",
    "    for image_name in os.listdir(dataset_path):\n",
    "        try: \n",
    "            image_path = os.path.join(dataset_path ,image_name)\n",
    "            # images.append(image_loader(image_path ,image_size))\n",
    "            image_paths.append(image_path)\n",
    "\n",
    "            for idx in  range(len(classes)):\n",
    "                if classes[idx] in image_name:\n",
    "                    labels.append(idx)\n",
    "            \n",
    "        except: \n",
    "            pass\n",
    "\n",
    "    with open(image_paths_pickle +\".pickle\", \"wb\") as f:\n",
    "        pickle.dump(image_paths , f)\n",
    "    print(len(labels))\n",
    "    assert len(image_paths) == len(labels)\n",
    "    \n",
    "    return  np.array(labels),image_paths"
   ]
  },
  {
   "cell_type": "markdown",
   "metadata": {},
   "source": [
    "Now we got our labels and paths we will store them in a pandas dataframe for furthur use"
   ]
  },
  {
   "cell_type": "code",
   "execution_count": 5,
   "metadata": {
    "tags": []
   },
   "outputs": [
    {
     "name": "stdout",
     "output_type": "stream",
     "text": [
      "50000\n"
     ]
    }
   ],
   "source": [
    "\n",
    "labels,i = dataset_preprocessing('dataset/train/', 'dataset/labels.txt', (32,32),'harsh')"
   ]
  },
  {
   "cell_type": "code",
   "execution_count": 6,
   "metadata": {},
   "outputs": [
    {
     "data": {
      "text/plain": [
       "60"
      ]
     },
     "execution_count": 6,
     "metadata": {},
     "output_type": "execute_result"
    }
   ],
   "source": [
    "import gc\n",
    "gc.collect()"
   ]
  },
  {
   "cell_type": "code",
   "execution_count": 7,
   "metadata": {},
   "outputs": [],
   "source": [
    "df['img_name'] = i\n",
    "df['labels'] = labels\n",
    "df.to_csv('train.csv',index=False)\n",
    "image_size = 32"
   ]
  },
  {
   "cell_type": "markdown",
   "metadata": {},
   "source": [
    "That is how our pandas dataframe looks like "
   ]
  },
  {
   "cell_type": "code",
   "execution_count": 8,
   "metadata": {},
   "outputs": [
    {
     "data": {
      "text/html": [
       "<div>\n",
       "<style scoped>\n",
       "    .dataframe tbody tr th:only-of-type {\n",
       "        vertical-align: middle;\n",
       "    }\n",
       "\n",
       "    .dataframe tbody tr th {\n",
       "        vertical-align: top;\n",
       "    }\n",
       "\n",
       "    .dataframe thead th {\n",
       "        text-align: right;\n",
       "    }\n",
       "</style>\n",
       "<table border=\"1\" class=\"dataframe\">\n",
       "  <thead>\n",
       "    <tr style=\"text-align: right;\">\n",
       "      <th></th>\n",
       "      <th>img_name</th>\n",
       "      <th>labels</th>\n",
       "    </tr>\n",
       "  </thead>\n",
       "  <tbody>\n",
       "    <tr>\n",
       "      <th>0</th>\n",
       "      <td>dataset/train/0_frog.png</td>\n",
       "      <td>6</td>\n",
       "    </tr>\n",
       "    <tr>\n",
       "      <th>1</th>\n",
       "      <td>dataset/train/10000_automobile.png</td>\n",
       "      <td>1</td>\n",
       "    </tr>\n",
       "    <tr>\n",
       "      <th>2</th>\n",
       "      <td>dataset/train/10001_frog.png</td>\n",
       "      <td>6</td>\n",
       "    </tr>\n",
       "    <tr>\n",
       "      <th>3</th>\n",
       "      <td>dataset/train/10002_frog.png</td>\n",
       "      <td>6</td>\n",
       "    </tr>\n",
       "    <tr>\n",
       "      <th>4</th>\n",
       "      <td>dataset/train/10003_ship.png</td>\n",
       "      <td>8</td>\n",
       "    </tr>\n",
       "  </tbody>\n",
       "</table>\n",
       "</div>"
      ],
      "text/plain": [
       "                             img_name  labels\n",
       "0            dataset/train/0_frog.png       6\n",
       "1  dataset/train/10000_automobile.png       1\n",
       "2        dataset/train/10001_frog.png       6\n",
       "3        dataset/train/10002_frog.png       6\n",
       "4        dataset/train/10003_ship.png       8"
      ]
     },
     "execution_count": 8,
     "metadata": {},
     "output_type": "execute_result"
    }
   ],
   "source": [
    "df.head()"
   ]
  },
  {
   "cell_type": "markdown",
   "metadata": {},
   "source": [
    "Decoding images is the phase in which we take the address and retrieve the image from the directory"
   ]
  },
  {
   "cell_type": "markdown",
   "metadata": {},
   "source": [
    "# # Data augmentation\n"
   ]
  },
  {
   "cell_type": "markdown",
   "metadata": {},
   "source": [
    "Data augmentation is also very important for saving our model from overfitting and increase our dataset to train the model"
   ]
  },
  {
   "cell_type": "markdown",
   "metadata": {},
   "source": [
    "\n",
    "<img src=\"Images/0_Utma-dS47hSoQ6Zt.png\" width=800 /> ![](Images/0_Utma-dS47hSoQ6Zt.png)"
   ]
  },
  {
   "cell_type": "code",
   "execution_count": 9,
   "metadata": {},
   "outputs": [],
   "source": [
    "\n",
    "def decode_image(filename, label=None, image_size=(image_size, image_size)):\n",
    "    bits = tf.io.read_file(filename)\n",
    "    image = tf.image.decode_jpeg(bits, channels=3)\n",
    "    image = tf.cast(image, tf.float32) / 255.0\n",
    "    image = tf.image.resize(image, size = image_size)\n",
    "    \n",
    "    if label is None:\n",
    "        return image\n",
    "    else:\n",
    "        return image, label\n",
    "\n",
    "# def data_augment(image, label=None):\n",
    "#     image = tf.image.random_flip_left_right(image)\n",
    "#     image = tf.image.random_flip_up_down(image)\n",
    "    \n",
    "#     if label is None:\n",
    "#         return image\n",
    "#     else:\n",
    "#         return image, label\n",
    "\n",
    "\n",
    "def data_augment(image, label=None):\n",
    "    image = tf.image.random_flip_left_right(image)\n",
    "    image = tf.image.random_flip_up_down(image)\n",
    "#     image = tf.image.random_saturation(image, lower = 1, upper = 3)\n",
    "#     image = tf.image.adjust_brightness(image, delta = 0.3)\n",
    "    image = tf.image.random_contrast(image, lower = 1, upper = 2)\n",
    "    if label is None:\n",
    "        return image\n",
    "    else:\n",
    "        return image, label"
   ]
  },
  {
   "cell_type": "markdown",
   "metadata": {},
   "source": [
    "Here is one sample image from our dataset it is of size (32,32,3)"
   ]
  },
  {
   "cell_type": "code",
   "execution_count": 10,
   "metadata": {},
   "outputs": [
    {
     "data": {
      "text/plain": [
       "<matplotlib.image.AxesImage at 0x1f5156b5f48>"
      ]
     },
     "execution_count": 10,
     "metadata": {},
     "output_type": "execute_result"
    },
    {
     "data": {
      "image/png": "[encoded data removed]",
      "text/plain": [
       "<Figure size 432x288 with 1 Axes>"
      ]
     },
     "metadata": {
      "needs_background": "light"
     },
     "output_type": "display_data"
    }
   ],
   "source": [
    "image_folder_path = 'dataset/train'\n",
    "chosen_image = cv2.imread(os.path.join(image_folder_path, \"0_frog.png\"))[:,:,::-1]\n",
    "plt.imshow(chosen_image)"
   ]
  },
  {
   "cell_type": "markdown",
   "metadata": {},
   "source": [
    "# One hot Encoding"
   ]
  },
  {
   "cell_type": "markdown",
   "metadata": {},
   "source": [
    "Now we are one hot encoding our labels \n",
    "an example for one hot encoding is given below"
   ]
  },
  {
   "cell_type": "markdown",
   "metadata": {},
   "source": [
    "<img src=\"Images/mtimFxh.png\" width=800 /> ![](Images/mtimFxh.png)\n"
   ]
  },
  {
   "cell_type": "code",
   "execution_count": 11,
   "metadata": {},
   "outputs": [],
   "source": [
    "labels = tf.keras.utils.to_categorical(\n",
    "    labels, num_classes=10, dtype='float32'\n",
    ")"
   ]
  },
  {
   "cell_type": "markdown",
   "metadata": {},
   "source": [
    "# Finding for TPUs or GPUs"
   ]
  },
  {
   "cell_type": "markdown",
   "metadata": {},
   "source": [
    "We can train our model faster by TPUs and GPUs "
   ]
  },
  {
   "cell_type": "code",
   "execution_count": 12,
   "metadata": {},
   "outputs": [
    {
     "name": "stdout",
     "output_type": "stream",
     "text": [
      "REPLICAS:  1\n"
     ]
    }
   ],
   "source": [
    "# Detect hardware, return appropriate distribution strategy\n",
    "try:\n",
    "    # TPU detection. No parameters necessary if TPU_NAME environment variable is\n",
    "    # set: this is always the case on Kaggle.\n",
    "    tpu = tf.distribute.cluster_resolver.TPUClusterResolver()\n",
    "    print('Running on TPU ', tpu.master())\n",
    "except ValueError:\n",
    "    tpu = None\n",
    "\n",
    "if tpu:\n",
    "    tf.config.experimental_connect_to_cluster(tpu)\n",
    "    tf.tpu.experimental.initialize_tpu_system(tpu)\n",
    "    strategy = tf.distribute.experimental.TPUStrategy(tpu)\n",
    "else:\n",
    "    # Default distribution strategy in Tensorflow. Works on CPU and single GPU.\n",
    "    strategy = tf.distribute.get_strategy()\n",
    "\n",
    "print(\"REPLICAS: \", strategy.num_replicas_in_sync)"
   ]
  },
  {
   "cell_type": "code",
   "execution_count": 13,
   "metadata": {},
   "outputs": [],
   "source": [
    "EPOCHS = 20\n",
    "BATCH_SIZE = 32 * strategy.num_replicas_in_sync\n",
    "AUTO = tf.data.experimental.AUTOTUNE"
   ]
  },
  {
   "cell_type": "markdown",
   "metadata": {},
   "source": [
    "Now its time to get the data from memory address and make mini batches of them\n",
    "And setting data pipelines "
   ]
  },
  {
   "cell_type": "code",
   "execution_count": 14,
   "metadata": {},
   "outputs": [],
   "source": [
    "\n",
    "\n",
    "\n",
    "def get_data(training_data,validation_data):\n",
    "    labels = tf.keras.utils.to_categorical(training_data.iloc[:,1], num_classes=10, dtype='float32')\n",
    "    train_dataset_fold = (\n",
    "        tf.data.Dataset\n",
    "        .from_tensor_slices((training_data.iloc[:,0], labels))\n",
    "        .map(decode_image, num_parallel_calls=AUTO)\n",
    "        .map(data_augment, num_parallel_calls=AUTO)\n",
    "        .repeat()\n",
    "        .shuffle(512)\n",
    "        .batch(BATCH_SIZE)\n",
    "        .prefetch(AUTO))\n",
    "    \n",
    "\n",
    "# Generally we don't shuffle a test/val set at all - \n",
    "# only the training set (We evaluate using the entire test set anyway, right? So why shuffle?).\n",
    "# https://stackoverflow.com/questions/56944856/tensorflow-dataset-questions-about-shuffle-batch-and-repeat\n",
    "# https://stackoverflow.com/questions/49915925/output-differences-when-changing-order-of-batch-shuffle-and-repeat\\\n",
    "\n",
    "\n",
    "    val_labels = labels = tf.keras.utils.to_categorical(validation_data.iloc[:,1], num_classes=10, dtype='float32')\n",
    "    valid_dataset_fold = (\n",
    "        tf.data.Dataset\n",
    "        .from_tensor_slices((validation_data.iloc[:,0], val_labels))\n",
    "        .map(decode_image, num_parallel_calls=AUTO)\n",
    "        .batch(BATCH_SIZE)\n",
    "        .cache()\n",
    "        .prefetch(AUTO))\n",
    "\n",
    "    # test_dataset = (\n",
    "    #     tf.data.Dataset\n",
    "    #     .from_tensor_slices(test_paths)\n",
    "    #     .map(decode_image, num_parallel_calls=AUTO)\n",
    "    #     .batch(BATCH_SIZE))\n",
    "    return train_dataset_fold,valid_dataset_fold"
   ]
  },
  {
   "cell_type": "markdown",
   "metadata": {},
   "source": [
    "Learning rate is the rate at which our model learns \n",
    "we are changing the learning rate according to the loss and having a track on change of learning rate "
   ]
  },
  {
   "cell_type": "code",
   "execution_count": 15,
   "metadata": {
    "scrolled": true,
    "tags": []
   },
   "outputs": [
    {
     "name": "stdout",
     "output_type": "stream",
     "text": [
      "Learning rate schedule: 1e-05 to 5e-05 to 1.06e-05\n"
     ]
    },
    {
     "data": {
      "image/png": "[encoded data removed]",
      "text/plain": [
       "<Figure size 432x288 with 1 Axes>"
      ]
     },
     "metadata": {
      "needs_background": "light"
     },
     "output_type": "display_data"
    }
   ],
   "source": [
    "def build_lrfn(lr_start=0.00001, lr_max=0.00005, \n",
    "               lr_min=0.00001, lr_rampup_epochs=5, \n",
    "               lr_sustain_epochs=0, lr_exp_decay=.8):\n",
    "    lr_max = lr_max * strategy.num_replicas_in_sync\n",
    "\n",
    "    def lrfn(epoch):\n",
    "        if epoch < lr_rampup_epochs:\n",
    "            lr = (lr_max - lr_start) / lr_rampup_epochs * epoch + lr_start\n",
    "        elif epoch < lr_rampup_epochs + lr_sustain_epochs:\n",
    "            lr = lr_max\n",
    "        else:\n",
    "            lr = (lr_max - lr_min) *\\\n",
    "                 lr_exp_decay**(epoch - lr_rampup_epochs\\\n",
    "                                - lr_sustain_epochs) + lr_min\n",
    "        return lr\n",
    "    return lrfn\n",
    "\n",
    "lrfn = build_lrfn()\n",
    "lr_schedule = tf.keras.callbacks.LearningRateScheduler(lrfn, verbose=1)\n",
    "rng = [i for i in range(25 if EPOCHS<25 else EPOCHS)]\n",
    "y = [lrfn(x) for x in rng]\n",
    "plt.plot(rng, y)\n",
    "print(\"Learning rate schedule: {:.3g} to {:.3g} to {:.3g}\".format(y[0], max(y), y[-1]))"
   ]
  },
  {
   "cell_type": "markdown",
   "metadata": {},
   "source": [
    "creating checkpoints for our model to save intermediate progras on the bases of the loss improvement on validation data"
   ]
  },
  {
   "cell_type": "code",
   "execution_count": 16,
   "metadata": {},
   "outputs": [],
   "source": [
    "STEPS_PER_EPOCH = labels.shape[0] // BATCH_SIZE\n",
    "model_checkpoint = tf.keras.callbacks.ModelCheckpoint('saver/trained_model.h5', monitor='val_loss', verbose=2, save_best_only=True)"
   ]
  },
  {
   "cell_type": "markdown",
   "metadata": {},
   "source": [
    "# Model selection"
   ]
  },
  {
   "cell_type": "markdown",
   "metadata": {},
   "source": [
    "We can use many pretrained model but here ill be using a small and simple convolutional net followed by fully conected layers\n",
    "Even we can use multiple models on the same dataset like using efficient net B0 to B7 \n",
    "using alternate models allows us to reduce the biasness of the prediction made by one model"
   ]
  },
  {
   "cell_type": "markdown",
   "metadata": {},
   "source": [
    "<img src=\"Images/1_uneBBug8GdcSeFviWrefzA.png\" width=800 /> ![](Images/1_uneBBug8GdcSeFviWrefzA.png)"
   ]
  },
  {
   "cell_type": "code",
   "execution_count": 17,
   "metadata": {},
   "outputs": [],
   "source": [
    "import efficientnet.tfkeras as efn\n",
    "import tensorflow.keras.layers as L\n",
    "def get_model():\n",
    "    with strategy.scope():\n",
    "        model = keras.Sequential()\n",
    "        model.add(Conv2D(64, kernel_size = (3,3) , strides = (1,1),activation='relu',input_shape=(32,32,3)))\n",
    "        model.add(BatchNormalization())\n",
    "        model.add(MaxPooling2D(pool_size=(2, 2),strides=(2, 2)))\n",
    "        model.add(Dropout(0.3))\n",
    "\n",
    "        model.add(Conv2D(128,kernel_size = (3,3), strides = (1, 1), activation='relu',padding='same'))\n",
    "        model.add(BatchNormalization())\n",
    "        model.add(Conv2D(64, (3, 3), activation='relu',padding='same'))\n",
    "        model.add(BatchNormalization())\n",
    "        model.add(MaxPooling2D(pool_size=(2, 2),strides=(2, 2)))\n",
    "        model.add(Dropout(0.2))\n",
    "\n",
    "        model.add(Conv2D(256,kernel_size = (5,5), strides = (1, 1), activation='relu',padding='same'))\n",
    "        model.add(BatchNormalization())\n",
    "        model.add(Conv2D(64, (3, 3), activation='relu',padding='same'))\n",
    "        model.add(BatchNormalization())\n",
    "        model.add(MaxPooling2D(pool_size=(2, 2),strides=(2, 2)))\n",
    "        model.add(Dropout(0.2))\n",
    "\n",
    "        model.add(Conv2D(512,kernel_size = (5,5), strides = (1, 1), activation='relu',padding='same'))\n",
    "        model.add(BatchNormalization())\n",
    "        model.add(Conv2D(64, (3, 3), activation='relu',padding='same'))\n",
    "        model.add(BatchNormalization())\n",
    "        model.add(MaxPooling2D(pool_size=(2, 2),strides=(2, 2)))\n",
    "        model.add(Dropout(0.2))\n",
    "\n",
    "        model.add(Flatten())\n",
    "\n",
    "        model.add(Dense(128, activation='relu'))\n",
    "        model.add(BatchNormalization())\n",
    "\n",
    "        model.add(Dense(256, activation='relu',name  = 'f1'))\n",
    "        model.add(BatchNormalization())\n",
    "\n",
    "        model.add(Dense(512, activation='relu'))\n",
    "        model.add(BatchNormalization())\n",
    "\n",
    "        model.add(Dense(1024, activation='relu' , name = 'f2'))\n",
    "        model.add(BatchNormalization())\n",
    "\n",
    "        model.add(Dense(10,activation = 'softmax'))\n",
    "        model.compile(\n",
    "            optimizer='adam',\n",
    "            loss = 'categorical_crossentropy', #for multiple categories and classification problem we can use categorical-\n",
    "            metrics=[tf.keras.metrics.AUC()])  # -cross entropy as loss \n",
    "                                               # Computing the approximate AUC (Area under the curve) via a Riemann sum.\n",
    "    return model"
   ]
  },
  {
   "cell_type": "code",
   "execution_count": 18,
   "metadata": {},
   "outputs": [
    {
     "name": "stdout",
     "output_type": "stream",
     "text": [
      "Model: \"sequential\"\n",
      "_________________________________________________________________\n",
      "Layer (type)                 Output Shape              Param #   \n",
      "=================================================================\n",
      "conv2d (Conv2D)              (None, 30, 30, 64)        1792      \n",
      "_________________________________________________________________\n",
      "batch_normalization (BatchNo (None, 30, 30, 64)        256       \n",
      "_________________________________________________________________\n",
      "max_pooling2d (MaxPooling2D) (None, 15, 15, 64)        0         \n",
      "_________________________________________________________________\n",
      "dropout (Dropout)            (None, 15, 15, 64)        0         \n",
      "_________________________________________________________________\n",
      "conv2d_1 (Conv2D)            (None, 15, 15, 128)       73856     \n",
      "_________________________________________________________________\n",
      "batch_normalization_1 (Batch (None, 15, 15, 128)       512       \n",
      "_________________________________________________________________\n",
      "conv2d_2 (Conv2D)            (None, 15, 15, 64)        73792     \n",
      "_________________________________________________________________\n",
      "batch_normalization_2 (Batch (None, 15, 15, 64)        256       \n",
      "_________________________________________________________________\n",
      "max_pooling2d_1 (MaxPooling2 (None, 7, 7, 64)          0         \n",
      "_________________________________________________________________\n",
      "dropout_1 (Dropout)          (None, 7, 7, 64)          0         \n",
      "_________________________________________________________________\n",
      "conv2d_3 (Conv2D)            (None, 7, 7, 256)         409856    \n",
      "_________________________________________________________________\n",
      "batch_normalization_3 (Batch (None, 7, 7, 256)         1024      \n",
      "_________________________________________________________________\n",
      "conv2d_4 (Conv2D)            (None, 7, 7, 64)          147520    \n",
      "_________________________________________________________________\n",
      "batch_normalization_4 (Batch (None, 7, 7, 64)          256       \n",
      "_________________________________________________________________\n",
      "max_pooling2d_2 (MaxPooling2 (None, 3, 3, 64)          0         \n",
      "_________________________________________________________________\n",
      "dropout_2 (Dropout)          (None, 3, 3, 64)          0         \n",
      "_________________________________________________________________\n",
      "conv2d_5 (Conv2D)            (None, 3, 3, 512)         819712    \n",
      "_________________________________________________________________\n",
      "batch_normalization_5 (Batch (None, 3, 3, 512)         2048      \n",
      "_________________________________________________________________\n",
      "conv2d_6 (Conv2D)            (None, 3, 3, 64)          294976    \n",
      "_________________________________________________________________\n",
      "batch_normalization_6 (Batch (None, 3, 3, 64)          256       \n",
      "_________________________________________________________________\n",
      "max_pooling2d_3 (MaxPooling2 (None, 1, 1, 64)          0         \n",
      "_________________________________________________________________\n",
      "dropout_3 (Dropout)          (None, 1, 1, 64)          0         \n",
      "_________________________________________________________________\n",
      "flatten (Flatten)            (None, 64)                0         \n",
      "_________________________________________________________________\n",
      "dense (Dense)                (None, 128)               8320      \n",
      "_________________________________________________________________\n",
      "batch_normalization_7 (Batch (None, 128)               512       \n",
      "_________________________________________________________________\n",
      "f1 (Dense)                   (None, 256)               33024     \n",
      "_________________________________________________________________\n",
      "batch_normalization_8 (Batch (None, 256)               1024      \n",
      "_________________________________________________________________\n",
      "dense_1 (Dense)              (None, 512)               131584    \n",
      "_________________________________________________________________\n",
      "batch_normalization_9 (Batch (None, 512)               2048      \n",
      "_________________________________________________________________\n",
      "f2 (Dense)                   (None, 1024)              525312    \n",
      "_________________________________________________________________\n",
      "batch_normalization_10 (Batc (None, 1024)              4096      \n",
      "_________________________________________________________________\n",
      "dense_2 (Dense)              (None, 10)                10250     \n",
      "=================================================================\n",
      "Total params: 2,542,282\n",
      "Trainable params: 2,536,138\n",
      "Non-trainable params: 6,144\n",
      "_________________________________________________________________\n"
     ]
    }
   ],
   "source": [
    "model = get_model()\n",
    "model.summary()"
   ]
  },
  {
   "cell_type": "code",
   "execution_count": 20,
   "metadata": {},
   "outputs": [
    {
     "data": {
      "text/plain": [
       "0"
      ]
     },
     "execution_count": 20,
     "metadata": {},
     "output_type": "execute_result"
    }
   ],
   "source": [
    "training_data,validation_data = train_test_split(df , test_size = 0.2 )\n",
    "\n",
    "training_dataset_fold  , valid_dataset_fold = get_data(training_data , validation_data)\n",
    "\n",
    "del training_data,validation_data\n",
    "gc.collect()\n",
    "\n"
   ]
  },
  {
   "cell_type": "code",
   "execution_count": 21,
   "metadata": {
    "tags": []
   },
   "outputs": [
    {
     "name": "stdout",
     "output_type": "stream",
     "text": [
      "\n",
      "Epoch 00001: LearningRateScheduler reducing learning rate to 1e-05.\n",
      "Epoch 1/20\n",
      "1562/1562 [==============================] - ETA: 0s - loss: 2.6439 - auc: 0.5746\n",
      "Epoch 00001: val_loss improved from inf to 2.40981, saving model to saver/trained_model.h5\n",
      "1562/1562 [==============================] - 29s 19ms/step - loss: 2.6439 - auc: 0.5746 - val_loss: 2.4098 - val_auc: 0.6336 - lr: 1.0000e-05\n",
      "\n",
      "Epoch 00002: LearningRateScheduler reducing learning rate to 1.8000000000000004e-05.\n",
      "Epoch 2/20\n",
      "1559/1562 [============================>.] - ETA: 0s - loss: 2.2874 - auc: 0.6700\n",
      "Epoch 00002: val_loss improved from 2.40981 to 2.31587, saving model to saver/trained_model.h5\n",
      "1562/1562 [==============================] - 28s 18ms/step - loss: 2.2870 - auc: 0.6701 - val_loss: 2.3159 - val_auc: 0.6739 - lr: 1.8000e-05\n",
      "\n",
      "Epoch 00003: LearningRateScheduler reducing learning rate to 2.6000000000000002e-05.\n",
      "Epoch 3/20\n",
      "1562/1562 [==============================] - ETA: 0s - loss: 2.0609 - auc: 0.7383\n",
      "Epoch 00003: val_loss improved from 2.31587 to 2.06306, saving model to saver/trained_model.h5\n",
      "1562/1562 [==============================] - 30s 19ms/step - loss: 2.0609 - auc: 0.7383 - val_loss: 2.0631 - val_auc: 0.7308 - lr: 2.6000e-05\n",
      "\n",
      "Epoch 00004: LearningRateScheduler reducing learning rate to 3.4000000000000007e-05.\n",
      "Epoch 4/20\n",
      "1562/1562 [==============================] - ETA: 0s - loss: 1.8978 - auc: 0.7839\n",
      "Epoch 00004: val_loss improved from 2.06306 to 2.00845, saving model to saver/trained_model.h5\n",
      "1562/1562 [==============================] - 30s 19ms/step - loss: 1.8978 - auc: 0.7839 - val_loss: 2.0084 - val_auc: 0.7599 - lr: 3.4000e-05\n",
      "\n",
      "Epoch 00005: LearningRateScheduler reducing learning rate to 4.2000000000000004e-05.\n",
      "Epoch 5/20\n",
      "1560/1562 [============================>.] - ETA: 0s - loss: 1.7648 - auc: 0.8162\n",
      "Epoch 00005: val_loss improved from 2.00845 to 1.86346, saving model to saver/trained_model.h5\n",
      "1562/1562 [==============================] - 29s 18ms/step - loss: 1.7645 - auc: 0.8162 - val_loss: 1.8635 - val_auc: 0.7944 - lr: 4.2000e-05\n",
      "\n",
      "Epoch 00006: LearningRateScheduler reducing learning rate to 5e-05.\n",
      "Epoch 6/20\n",
      "1562/1562 [==============================] - ETA: 0s - loss: 1.6618 - auc: 0.8390\n",
      "Epoch 00006: val_loss improved from 1.86346 to 1.70199, saving model to saver/trained_model.h5\n",
      "1562/1562 [==============================] - 29s 19ms/step - loss: 1.6618 - auc: 0.8390 - val_loss: 1.7020 - val_auc: 0.8352 - lr: 5.0000e-05\n",
      "\n",
      "Epoch 00007: LearningRateScheduler reducing learning rate to 4.2000000000000004e-05.\n",
      "Epoch 7/20\n",
      "1562/1562 [==============================] - ETA: 0s - loss: 1.5365 - auc: 0.8639\n",
      "Epoch 00007: val_loss improved from 1.70199 to 1.52112, saving model to saver/trained_model.h5\n",
      "1562/1562 [==============================] - 28s 18ms/step - loss: 1.5365 - auc: 0.8639 - val_loss: 1.5211 - val_auc: 0.8680 - lr: 4.2000e-05\n",
      "\n",
      "Epoch 00008: LearningRateScheduler reducing learning rate to 3.5600000000000005e-05.\n",
      "Epoch 8/20\n",
      "1561/1562 [============================>.] - ETA: 0s - loss: 1.4456 - auc: 0.8802\n",
      "Epoch 00008: val_loss did not improve from 1.52112\n",
      "1562/1562 [==============================] - 28s 18ms/step - loss: 1.4456 - auc: 0.8802 - val_loss: 1.5646 - val_auc: 0.8619 - lr: 3.5600e-05\n",
      "\n",
      "Epoch 00009: LearningRateScheduler reducing learning rate to 3.0480000000000006e-05.\n",
      "Epoch 9/20\n",
      "1561/1562 [============================>.] - ETA: 0s - loss: 1.3751 - auc: 0.8921\n",
      "Epoch 00009: val_loss improved from 1.52112 to 1.46627, saving model to saver/trained_model.h5\n",
      "1562/1562 [==============================] - 29s 18ms/step - loss: 1.3756 - auc: 0.8920 - val_loss: 1.4663 - val_auc: 0.8804 - lr: 3.0480e-05\n",
      "\n",
      "Epoch 00010: LearningRateScheduler reducing learning rate to 2.6384000000000004e-05.\n",
      "Epoch 10/20\n",
      "1561/1562 [============================>.] - ETA: 0s - loss: 1.3169 - auc: 0.9012\n",
      "Epoch 00010: val_loss did not improve from 1.46627\n",
      "1562/1562 [==============================] - 28s 18ms/step - loss: 1.3170 - auc: 0.9011 - val_loss: 1.6102 - val_auc: 0.8606 - lr: 2.6384e-05\n",
      "\n",
      "Epoch 00011: LearningRateScheduler reducing learning rate to 2.3107200000000005e-05.\n",
      "Epoch 11/20\n",
      "1562/1562 [==============================] - ETA: 0s - loss: 1.2701 - auc: 0.9082\n",
      "Epoch 00011: val_loss improved from 1.46627 to 1.46058, saving model to saver/trained_model.h5\n",
      "1562/1562 [==============================] - 29s 18ms/step - loss: 1.2701 - auc: 0.9082 - val_loss: 1.4606 - val_auc: 0.8826 - lr: 2.3107e-05\n",
      "\n",
      "Epoch 00012: LearningRateScheduler reducing learning rate to 2.0485760000000004e-05.\n",
      "Epoch 12/20\n",
      "1561/1562 [============================>.] - ETA: 0s - loss: 1.2281 - auc: 0.9145\n",
      "Epoch 00012: val_loss improved from 1.46058 to 1.33782, saving model to saver/trained_model.h5\n",
      "1562/1562 [==============================] - 28s 18ms/step - loss: 1.2279 - auc: 0.9145 - val_loss: 1.3378 - val_auc: 0.9011 - lr: 2.0486e-05\n",
      "\n",
      "Epoch 00013: LearningRateScheduler reducing learning rate to 1.8388608000000004e-05.\n",
      "Epoch 13/20\n",
      "1561/1562 [============================>.] - ETA: 0s - loss: 1.2039 - auc: 0.9177\n",
      "Epoch 00013: val_loss improved from 1.33782 to 1.33026, saving model to saver/trained_model.h5\n",
      "1562/1562 [==============================] - 30s 19ms/step - loss: 1.2038 - auc: 0.9177 - val_loss: 1.3303 - val_auc: 0.9011 - lr: 1.8389e-05\n",
      "\n",
      "Epoch 00014: LearningRateScheduler reducing learning rate to 1.6710886400000004e-05.\n",
      "Epoch 14/20\n",
      "1561/1562 [============================>.] - ETA: 0s - loss: 1.1751 - auc: 0.9216\n",
      "Epoch 00014: val_loss improved from 1.33026 to 1.32959, saving model to saver/trained_model.h5\n",
      "1562/1562 [==============================] - 31s 20ms/step - loss: 1.1752 - auc: 0.9216 - val_loss: 1.3296 - val_auc: 0.9014 - lr: 1.6711e-05\n",
      "\n",
      "Epoch 00015: LearningRateScheduler reducing learning rate to 1.5368709120000003e-05.\n",
      "Epoch 15/20\n",
      "1562/1562 [==============================] - ETA: 0s - loss: 1.1481 - auc: 0.9251\n",
      "Epoch 00015: val_loss improved from 1.32959 to 1.20214, saving model to saver/trained_model.h5\n",
      "1562/1562 [==============================] - 32s 20ms/step - loss: 1.1481 - auc: 0.9251 - val_loss: 1.2021 - val_auc: 0.9191 - lr: 1.5369e-05\n",
      "\n",
      "Epoch 00016: LearningRateScheduler reducing learning rate to 1.4294967296000005e-05.\n",
      "Epoch 16/20\n",
      "1561/1562 [============================>.] - ETA: 0s - loss: 1.1226 - auc: 0.9285\n",
      "Epoch 00016: val_loss did not improve from 1.20214\n",
      "1562/1562 [==============================] - 31s 20ms/step - loss: 1.1226 - auc: 0.9285 - val_loss: 1.2643 - val_auc: 0.9111 - lr: 1.4295e-05\n",
      "\n",
      "Epoch 00017: LearningRateScheduler reducing learning rate to 1.3435973836800004e-05.\n",
      "Epoch 17/20\n",
      "1561/1562 [============================>.] - ETA: 0s - loss: 1.1043 - auc: 0.9308\n",
      "Epoch 00017: val_loss did not improve from 1.20214\n",
      "1562/1562 [==============================] - 27s 17ms/step - loss: 1.1043 - auc: 0.9308 - val_loss: 1.2384 - val_auc: 0.9154 - lr: 1.3436e-05\n",
      "\n",
      "Epoch 00018: LearningRateScheduler reducing learning rate to 1.2748779069440003e-05.\n",
      "Epoch 18/20\n",
      "1561/1562 [============================>.] - ETA: 0s - loss: 1.0877 - auc: 0.9328\n",
      "Epoch 00018: val_loss did not improve from 1.20214\n",
      "1562/1562 [==============================] - 31s 20ms/step - loss: 1.0875 - auc: 0.9328 - val_loss: 1.2767 - val_auc: 0.9111 - lr: 1.2749e-05\n",
      "\n",
      "Epoch 00019: LearningRateScheduler reducing learning rate to 1.2199023255552003e-05.\n",
      "Epoch 19/20\n",
      "1562/1562 [==============================] - ETA: 0s - loss: 1.0707 - auc: 0.9349\n",
      "Epoch 00019: val_loss did not improve from 1.20214\n",
      "1562/1562 [==============================] - 31s 20ms/step - loss: 1.0707 - auc: 0.9349 - val_loss: 1.2106 - val_auc: 0.9197 - lr: 1.2199e-05\n",
      "\n",
      "Epoch 00020: LearningRateScheduler reducing learning rate to 1.1759218604441602e-05.\n",
      "Epoch 20/20\n",
      "1562/1562 [==============================] - ETA: 0s - loss: 1.0574 - auc: 0.9365\n",
      "Epoch 00020: val_loss improved from 1.20214 to 1.16839, saving model to saver/trained_model.h5\n",
      "1562/1562 [==============================] - 32s 20ms/step - loss: 1.0574 - auc: 0.9365 - val_loss: 1.1684 - val_auc: 0.9240 - lr: 1.1759e-05\n"
     ]
    }
   ],
   "source": [
    "\n",
    "history = model.fit(training_dataset_fold,\n",
    "                        epochs=EPOCHS,\n",
    "                        callbacks=[model_checkpoint,lr_schedule],\n",
    "                        steps_per_epoch=STEPS_PER_EPOCH,\n",
    "                        validation_data = valid_dataset_fold\n",
    "                        )"
   ]
  },
  {
   "cell_type": "code",
   "execution_count": 23,
   "metadata": {},
   "outputs": [
    {
     "data": {
      "text/plain": [
       "[<matplotlib.lines.Line2D at 0x1f5fb71f308>]"
      ]
     },
     "execution_count": 23,
     "metadata": {},
     "output_type": "execute_result"
    },
    {
     "data": {
      "image/png": "[encoded data removed]",
      "text/plain": [
       "<Figure size 432x288 with 1 Axes>"
      ]
     },
     "metadata": {
      "needs_background": "light"
     },
     "output_type": "display_data"
    }
   ],
   "source": [
    "import matplotlib.pyplot as plt\n",
    "\n",
    "plt.plot(history.history['val_loss'])"
   ]
  },
  {
   "cell_type": "code",
   "execution_count": null,
   "metadata": {},
   "outputs": [],
   "source": []
  }
 ],
 "metadata": {
  "kernelspec": {
   "display_name": "gputest",
   "language": "python",
   "name": "gputest"
  },
  "language_info": {
   "codemirror_mode": {
    "name": "ipython",
    "version": 3
   },
   "file_extension": ".py",
   "mimetype": "text/x-python",
   "name": "python",
   "nbconvert_exporter": "python",
   "pygments_lexer": "ipython3",
   "version": "3.7.7"
  }
 },
 "nbformat": 4,
 "nbformat_minor": 4
}
